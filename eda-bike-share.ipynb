{
 "cells": [
  {
   "cell_type": "markdown",
   "id": "opened-relative",
   "metadata": {},
   "source": [
    "# Explorative Datenanalyse (EDA)\n",
    "\n",
    "Datensatz *Bike Sharing Demand Dataset*\n",
    "\n",
    "Quelle und Informationen https://archive.ics.uci.edu/ml/datasets/bike+sharing+dataset\n",
    "\n",
    "Bei Bike-Sharing-Systemen gibt es mehrere Standorte in einer Stadt, an denen man ein Fahrrad ausleihen und zurückgeben kann. Nutzer*innen können ein Fahrrad an einem Standort ausleihen und an einem anderen Standort zurückgeben. Für verschiedene Städte werden Informationen zur Nutzung der Bike-Sharing-Dienste als Open Data zur Verfügung gestellt. Wenn  diese Daten mit Wetterdaten, Besucherströme und Pendlerbewegungen kombiniert werden, können wir sie für die Untersuchung vieler Themen wie Optimierung der Verkehrsmobilität nutzen. Der folgende  Datensatz wird vom Capital Bikeshare Programm aus Washington, D.C. zur Verfügung gestellt.\n",
    "\n",
    "Dieser Datensatz hat zwei Dateien, eine für die stündlichen (hour.csv) Datensätze und die andere für die täglichen (day.csv) Datensätze. Diese Daten wurden zwischen 2011. und 2012. gesammelt und enthalten entsprechende Wetter- und saisonale Informationen. In dieser Demo werden wir nur die stündliche Daten verwendet. Das sieht folgendermaßen aus:\n",
    "\n",
    "![title](images/dataset.jpg)\n",
    "\n"
   ]
  },
  {
   "cell_type": "markdown",
   "id": "visible-syndrome",
   "metadata": {},
   "source": [
    "hours.csv enthält folgende Attribute (Merkmale, Features):\n",
    "\n",
    "* Instant – sample index\n",
    "* Dteday – Date when the sample was recorded\n",
    "* Season – Season in which sample was recorded\n",
    "  * Spring – 1\n",
    "  * Summer – 2\n",
    "  * Fall – 3\n",
    "  * Winter – 4\n",
    "* Yr – Year in which sample was recorded\n",
    "  * The year 2011 – 0\n",
    "  * The year 2012 – 1\n",
    "* Mnth – Month in which sample was recorded\n",
    "* Hr – Hour in which sample was recorded\n",
    "* Holiday – Weather day is a holiday or not\n",
    "* Weekday  – Day of the week\n",
    "* Workingday – If the day is neither weekend nor holiday is 1, otherwise is 0.\n",
    "* Weathersit – Kind of weather that was that day when the sample was recorded\n",
    "  * Clear, Few clouds, Partly cloudy, Partly cloudy – 1\n",
    "  * Mist + Cloudy, Mist + Broken clouds, Mist + Few clouds, Mist – 2\n",
    "  * Light Snow, Light Rain + Thunderstorm + Scattered clouds, Light Rain + Scattered clouds – 3\n",
    "  * Heavy Rain + Ice Pallets + Thunderstorm + Mist, Snow + Fog – 4\n",
    "* Temp – Normalized temperature in Celsius.\n",
    "* Atemp – Normalized feeling temperature in Celsius.\n",
    "* Hum – Normalized humidity.\n",
    "* Windspeed – Normalized wind speed.\n",
    "* Casual – Count of casual users\n",
    "* Registered – Count of registered users\n",
    "* Cnt – Count of total rental bikes including both casual and registered"
   ]
  },
  {
   "cell_type": "markdown",
   "id": "confident-sleeping",
   "metadata": {},
   "source": [
    "## Bibliotheken\n",
    "\n",
    "**NumPy** - Python-Bibliothek für wissenschaftliche Berechnungen.\n",
    "\n",
    "**Pandas** - Bibliothek, die einfach zu verwendende und leistungsstarke Datenstrukturen und Analysewerkzeuge für Python bereitstellt.\n",
    "\n",
    "**Matlotlib** - Python-Bibliothek für 2D-Plots. Mit ihr können wir Plots, Histogramme, Balkendiagramme, Scatterplots, etc. erstellen.\n",
    "\n",
    "**Seaborn** - Datenvisualisierungsbibliothek, die auf der matplotlib-Bibliothek basiert. Sie bietet eine High-Level-API zum Zeichnen statistischer Grafiken."
   ]
  },
  {
   "cell_type": "code",
   "execution_count": 1,
   "id": "joint-statistics",
   "metadata": {},
   "outputs": [],
   "source": [
    "# Import\n",
    "import numpy as np\n",
    "import pandas as pd\n",
    "import seaborn as sb\n",
    "import matplotlib.pyplot as plt"
   ]
  },
  {
   "cell_type": "markdown",
   "id": "accomplished-society",
   "metadata": {},
   "source": [
    "## Daten laden und erste Übersicht"
   ]
  },
  {
   "cell_type": "code",
   "execution_count": 2,
   "id": "rising-furniture",
   "metadata": {},
   "outputs": [],
   "source": [
    "# Loading data using Pandas\n",
    "data = pd.read_csv('data/hour.csv')"
   ]
  },
  {
   "cell_type": "markdown",
   "id": "descending-corporation",
   "metadata": {},
   "source": [
    "Mit der Pandas-Funktion head erhält  man einen ersten Überblick über den Datensatz. Die Funktion liefert die ersten fünf Datensätze sowie die Feature-Namen aus den geladenen Daten."
   ]
  },
  {
   "cell_type": "code",
   "execution_count": 3,
   "id": "rolled-coupon",
   "metadata": {},
   "outputs": [
    {
     "name": "stdout",
     "output_type": "stream",
     "text": [
      "(17379, 17)\n"
     ]
    },
    {
     "data": {
      "text/html": [
       "<div>\n",
       "<style scoped>\n",
       "    .dataframe tbody tr th:only-of-type {\n",
       "        vertical-align: middle;\n",
       "    }\n",
       "\n",
       "    .dataframe tbody tr th {\n",
       "        vertical-align: top;\n",
       "    }\n",
       "\n",
       "    .dataframe thead th {\n",
       "        text-align: right;\n",
       "    }\n",
       "</style>\n",
       "<table border=\"1\" class=\"dataframe\">\n",
       "  <thead>\n",
       "    <tr style=\"text-align: right;\">\n",
       "      <th></th>\n",
       "      <th>instant</th>\n",
       "      <th>dteday</th>\n",
       "      <th>season</th>\n",
       "      <th>yr</th>\n",
       "      <th>mnth</th>\n",
       "      <th>hr</th>\n",
       "      <th>holiday</th>\n",
       "      <th>weekday</th>\n",
       "      <th>workingday</th>\n",
       "      <th>weathersit</th>\n",
       "      <th>temp</th>\n",
       "      <th>atemp</th>\n",
       "      <th>hum</th>\n",
       "      <th>windspeed</th>\n",
       "      <th>casual</th>\n",
       "      <th>registered</th>\n",
       "      <th>cnt</th>\n",
       "    </tr>\n",
       "  </thead>\n",
       "  <tbody>\n",
       "    <tr>\n",
       "      <th>0</th>\n",
       "      <td>1</td>\n",
       "      <td>2011-01-01</td>\n",
       "      <td>1</td>\n",
       "      <td>0</td>\n",
       "      <td>1</td>\n",
       "      <td>0</td>\n",
       "      <td>0</td>\n",
       "      <td>6</td>\n",
       "      <td>0</td>\n",
       "      <td>1</td>\n",
       "      <td>0.24</td>\n",
       "      <td>0.2879</td>\n",
       "      <td>0.81</td>\n",
       "      <td>0.0</td>\n",
       "      <td>3</td>\n",
       "      <td>13</td>\n",
       "      <td>16</td>\n",
       "    </tr>\n",
       "    <tr>\n",
       "      <th>1</th>\n",
       "      <td>2</td>\n",
       "      <td>2011-01-01</td>\n",
       "      <td>1</td>\n",
       "      <td>0</td>\n",
       "      <td>1</td>\n",
       "      <td>1</td>\n",
       "      <td>0</td>\n",
       "      <td>6</td>\n",
       "      <td>0</td>\n",
       "      <td>1</td>\n",
       "      <td>0.22</td>\n",
       "      <td>0.2727</td>\n",
       "      <td>0.80</td>\n",
       "      <td>0.0</td>\n",
       "      <td>8</td>\n",
       "      <td>32</td>\n",
       "      <td>40</td>\n",
       "    </tr>\n",
       "    <tr>\n",
       "      <th>2</th>\n",
       "      <td>3</td>\n",
       "      <td>2011-01-01</td>\n",
       "      <td>1</td>\n",
       "      <td>0</td>\n",
       "      <td>1</td>\n",
       "      <td>2</td>\n",
       "      <td>0</td>\n",
       "      <td>6</td>\n",
       "      <td>0</td>\n",
       "      <td>1</td>\n",
       "      <td>0.22</td>\n",
       "      <td>0.2727</td>\n",
       "      <td>0.80</td>\n",
       "      <td>0.0</td>\n",
       "      <td>5</td>\n",
       "      <td>27</td>\n",
       "      <td>32</td>\n",
       "    </tr>\n",
       "    <tr>\n",
       "      <th>3</th>\n",
       "      <td>4</td>\n",
       "      <td>2011-01-01</td>\n",
       "      <td>1</td>\n",
       "      <td>0</td>\n",
       "      <td>1</td>\n",
       "      <td>3</td>\n",
       "      <td>0</td>\n",
       "      <td>6</td>\n",
       "      <td>0</td>\n",
       "      <td>1</td>\n",
       "      <td>0.24</td>\n",
       "      <td>0.2879</td>\n",
       "      <td>0.75</td>\n",
       "      <td>0.0</td>\n",
       "      <td>3</td>\n",
       "      <td>10</td>\n",
       "      <td>13</td>\n",
       "    </tr>\n",
       "    <tr>\n",
       "      <th>4</th>\n",
       "      <td>5</td>\n",
       "      <td>2011-01-01</td>\n",
       "      <td>1</td>\n",
       "      <td>0</td>\n",
       "      <td>1</td>\n",
       "      <td>4</td>\n",
       "      <td>0</td>\n",
       "      <td>6</td>\n",
       "      <td>0</td>\n",
       "      <td>1</td>\n",
       "      <td>0.24</td>\n",
       "      <td>0.2879</td>\n",
       "      <td>0.75</td>\n",
       "      <td>0.0</td>\n",
       "      <td>0</td>\n",
       "      <td>1</td>\n",
       "      <td>1</td>\n",
       "    </tr>\n",
       "  </tbody>\n",
       "</table>\n",
       "</div>"
      ],
      "text/plain": [
       "   instant      dteday  season  yr  mnth  hr  holiday  weekday  workingday  \\\n",
       "0        1  2011-01-01       1   0     1   0        0        6           0   \n",
       "1        2  2011-01-01       1   0     1   1        0        6           0   \n",
       "2        3  2011-01-01       1   0     1   2        0        6           0   \n",
       "3        4  2011-01-01       1   0     1   3        0        6           0   \n",
       "4        5  2011-01-01       1   0     1   4        0        6           0   \n",
       "\n",
       "   weathersit  temp   atemp   hum  windspeed  casual  registered  cnt  \n",
       "0           1  0.24  0.2879  0.81        0.0       3          13   16  \n",
       "1           1  0.22  0.2727  0.80        0.0       8          32   40  \n",
       "2           1  0.22  0.2727  0.80        0.0       5          27   32  \n",
       "3           1  0.24  0.2879  0.75        0.0       3          10   13  \n",
       "4           1  0.24  0.2879  0.75        0.0       0           1    1  "
      ]
     },
     "execution_count": 3,
     "metadata": {},
     "output_type": "execute_result"
    }
   ],
   "source": [
    "# Head\n",
    "print(data.shape)\n",
    "data.head()"
   ]
  },
  {
   "cell_type": "markdown",
   "id": "filled-passenger",
   "metadata": {},
   "source": [
    "Anhand dieser Ausgabe können wir sehen, dass wir 17379 Beobachtungen oder Datensätze mit jeweils 17 Features haben. Die Merkmale basieren auf unterschiedlichen Skalen. Einige Features tragen auch keine hilfreichen Informationen. Dies sind die Merkmale *instant* und *dteday* (von anderen Merkmalen ableitbar). Wir können diese beiden  Features entfernen:"
   ]
  },
  {
   "cell_type": "code",
   "execution_count": 4,
   "id": "selected-military",
   "metadata": {},
   "outputs": [
    {
     "name": "stdout",
     "output_type": "stream",
     "text": [
      "(17379, 15)\n"
     ]
    },
    {
     "data": {
      "text/html": [
       "<div>\n",
       "<style scoped>\n",
       "    .dataframe tbody tr th:only-of-type {\n",
       "        vertical-align: middle;\n",
       "    }\n",
       "\n",
       "    .dataframe tbody tr th {\n",
       "        vertical-align: top;\n",
       "    }\n",
       "\n",
       "    .dataframe thead th {\n",
       "        text-align: right;\n",
       "    }\n",
       "</style>\n",
       "<table border=\"1\" class=\"dataframe\">\n",
       "  <thead>\n",
       "    <tr style=\"text-align: right;\">\n",
       "      <th></th>\n",
       "      <th>season</th>\n",
       "      <th>yr</th>\n",
       "      <th>mnth</th>\n",
       "      <th>hr</th>\n",
       "      <th>holiday</th>\n",
       "      <th>weekday</th>\n",
       "      <th>workingday</th>\n",
       "      <th>weathersit</th>\n",
       "      <th>temp</th>\n",
       "      <th>atemp</th>\n",
       "      <th>hum</th>\n",
       "      <th>windspeed</th>\n",
       "      <th>casual</th>\n",
       "      <th>registered</th>\n",
       "      <th>cnt</th>\n",
       "    </tr>\n",
       "  </thead>\n",
       "  <tbody>\n",
       "    <tr>\n",
       "      <th>0</th>\n",
       "      <td>1</td>\n",
       "      <td>0</td>\n",
       "      <td>1</td>\n",
       "      <td>0</td>\n",
       "      <td>0</td>\n",
       "      <td>6</td>\n",
       "      <td>0</td>\n",
       "      <td>1</td>\n",
       "      <td>0.24</td>\n",
       "      <td>0.2879</td>\n",
       "      <td>0.81</td>\n",
       "      <td>0.0</td>\n",
       "      <td>3</td>\n",
       "      <td>13</td>\n",
       "      <td>16</td>\n",
       "    </tr>\n",
       "    <tr>\n",
       "      <th>1</th>\n",
       "      <td>1</td>\n",
       "      <td>0</td>\n",
       "      <td>1</td>\n",
       "      <td>1</td>\n",
       "      <td>0</td>\n",
       "      <td>6</td>\n",
       "      <td>0</td>\n",
       "      <td>1</td>\n",
       "      <td>0.22</td>\n",
       "      <td>0.2727</td>\n",
       "      <td>0.80</td>\n",
       "      <td>0.0</td>\n",
       "      <td>8</td>\n",
       "      <td>32</td>\n",
       "      <td>40</td>\n",
       "    </tr>\n",
       "    <tr>\n",
       "      <th>2</th>\n",
       "      <td>1</td>\n",
       "      <td>0</td>\n",
       "      <td>1</td>\n",
       "      <td>2</td>\n",
       "      <td>0</td>\n",
       "      <td>6</td>\n",
       "      <td>0</td>\n",
       "      <td>1</td>\n",
       "      <td>0.22</td>\n",
       "      <td>0.2727</td>\n",
       "      <td>0.80</td>\n",
       "      <td>0.0</td>\n",
       "      <td>5</td>\n",
       "      <td>27</td>\n",
       "      <td>32</td>\n",
       "    </tr>\n",
       "    <tr>\n",
       "      <th>3</th>\n",
       "      <td>1</td>\n",
       "      <td>0</td>\n",
       "      <td>1</td>\n",
       "      <td>3</td>\n",
       "      <td>0</td>\n",
       "      <td>6</td>\n",
       "      <td>0</td>\n",
       "      <td>1</td>\n",
       "      <td>0.24</td>\n",
       "      <td>0.2879</td>\n",
       "      <td>0.75</td>\n",
       "      <td>0.0</td>\n",
       "      <td>3</td>\n",
       "      <td>10</td>\n",
       "      <td>13</td>\n",
       "    </tr>\n",
       "    <tr>\n",
       "      <th>4</th>\n",
       "      <td>1</td>\n",
       "      <td>0</td>\n",
       "      <td>1</td>\n",
       "      <td>4</td>\n",
       "      <td>0</td>\n",
       "      <td>6</td>\n",
       "      <td>0</td>\n",
       "      <td>1</td>\n",
       "      <td>0.24</td>\n",
       "      <td>0.2879</td>\n",
       "      <td>0.75</td>\n",
       "      <td>0.0</td>\n",
       "      <td>0</td>\n",
       "      <td>1</td>\n",
       "      <td>1</td>\n",
       "    </tr>\n",
       "  </tbody>\n",
       "</table>\n",
       "</div>"
      ],
      "text/plain": [
       "   season  yr  mnth  hr  holiday  weekday  workingday  weathersit  temp  \\\n",
       "0       1   0     1   0        0        6           0           1  0.24   \n",
       "1       1   0     1   1        0        6           0           1  0.22   \n",
       "2       1   0     1   2        0        6           0           1  0.22   \n",
       "3       1   0     1   3        0        6           0           1  0.24   \n",
       "4       1   0     1   4        0        6           0           1  0.24   \n",
       "\n",
       "    atemp   hum  windspeed  casual  registered  cnt  \n",
       "0  0.2879  0.81        0.0       3          13   16  \n",
       "1  0.2727  0.80        0.0       8          32   40  \n",
       "2  0.2727  0.80        0.0       5          27   32  \n",
       "3  0.2879  0.75        0.0       3          10   13  \n",
       "4  0.2879  0.75        0.0       0           1    1  "
      ]
     },
     "execution_count": 4,
     "metadata": {},
     "output_type": "execute_result"
    }
   ],
   "source": [
    "drop_features = {\"instant\", \"dteday\"}\n",
    "data = data.drop(columns = drop_features)\n",
    "print(data.shape)\n",
    "data.head()"
   ]
  },
  {
   "cell_type": "markdown",
   "id": "broad-apparel",
   "metadata": {},
   "source": [
    "Als nächstes prüfen wir die Datentypen der einzelnen Features. Auch hierzu verwenden wir Pandas:"
   ]
  },
  {
   "cell_type": "code",
   "execution_count": 5,
   "id": "chief-romance",
   "metadata": {},
   "outputs": [
    {
     "data": {
      "text/plain": [
       "season          int64\n",
       "yr              int64\n",
       "mnth            int64\n",
       "hr              int64\n",
       "holiday         int64\n",
       "weekday         int64\n",
       "workingday      int64\n",
       "weathersit      int64\n",
       "temp          float64\n",
       "atemp         float64\n",
       "hum           float64\n",
       "windspeed     float64\n",
       "casual          int64\n",
       "registered      int64\n",
       "cnt             int64\n",
       "dtype: object"
      ]
     },
     "execution_count": 5,
     "metadata": {},
     "output_type": "execute_result"
    }
   ],
   "source": [
    "data.dtypes"
   ]
  },
  {
   "cell_type": "markdown",
   "id": "human-barcelona",
   "metadata": {},
   "source": [
    "Alle Merkmale in den geladenen Daten sind vom Typ int64 oder float64. Das bedeutet, dass Machine Learning Modelle sie als quantitative Merkmale betrachten. \n",
    "Jedoch haben wir kategorische Variablen wie Saison, Jahr (yr), Monat (mnth) usw. haben. Wir müssen ihren Typ ändern. Das können wir folgendermaßen tun:"
   ]
  },
  {
   "cell_type": "code",
   "execution_count": 6,
   "id": "light-boost",
   "metadata": {},
   "outputs": [
    {
     "data": {
      "text/plain": [
       "season        category\n",
       "yr            category\n",
       "mnth          category\n",
       "hr            category\n",
       "holiday       category\n",
       "weekday       category\n",
       "workingday    category\n",
       "weathersit    category\n",
       "temp           float64\n",
       "atemp          float64\n",
       "hum            float64\n",
       "windspeed      float64\n",
       "casual           int64\n",
       "registered       int64\n",
       "cnt              int64\n",
       "dtype: object"
      ]
     },
     "execution_count": 6,
     "metadata": {},
     "output_type": "execute_result"
    }
   ],
   "source": [
    "categorical_features = {\"season\", \"yr\", \"mnth\", \"holiday\", \"hr\", \"workingday\", \"weekday\", \"weathersit\"}\n",
    "for feature in categorical_features:\n",
    "    data[feature] = data[feature].astype(\"category\")\n",
    "    \n",
    "data.dtypes"
   ]
  },
  {
   "cell_type": "markdown",
   "id": "right-component",
   "metadata": {},
   "source": [
    "## Fehlende Werte\n",
    "Es ist immer wichtig, zu Beginn den Datensatz auf fehlende Daten zu untersuchen. So können durchaus für einige Merkmlae in einige Beobachtungen, Werte fehlen. Diese Stellen müssen wir erkennen, um dann zu entscheiden, wie wir damit umgehen sollten. Mögliche Strategien wären bspw. Datensätze mit fehlenden Werte zu entfernen oder die fehlenden Werte durch sinnvolle Werte (z.B. Mittelwert des Merkmals) zu ersetzen.  \n",
    "\n",
    "Mit Pandas können wir wie folgt fehlende Werte identifizieren: "
   ]
  },
  {
   "cell_type": "code",
   "execution_count": 7,
   "id": "tamil-bulletin",
   "metadata": {},
   "outputs": [
    {
     "name": "stdout",
     "output_type": "stream",
     "text": [
      "season        0\n",
      "yr            0\n",
      "mnth          0\n",
      "hr            0\n",
      "holiday       0\n",
      "weekday       0\n",
      "workingday    0\n",
      "weathersit    0\n",
      "temp          0\n",
      "atemp         0\n",
      "hum           0\n",
      "windspeed     0\n",
      "casual        0\n",
      "registered    0\n",
      "cnt           0\n",
      "dtype: int64\n"
     ]
    }
   ],
   "source": [
    "print(data.isnull().sum())"
   ]
  },
  {
   "cell_type": "markdown",
   "id": "excited-tunisia",
   "metadata": {},
   "source": [
    "In diesem Datensatz gibt es keine fehlenden Werte."
   ]
  },
  {
   "cell_type": "code",
   "execution_count": 8,
   "id": "featured-confusion",
   "metadata": {},
   "outputs": [],
   "source": [
    "# mit help(Funktion) werden Informationen zur Funktion angezeigt.\n",
    "# help(pd.isnull)"
   ]
  },
  {
   "cell_type": "markdown",
   "id": "closed-buffalo",
   "metadata": {},
   "source": [
    "## Verteilungen\n",
    "\n",
    "Im nächsten Schritt werden die Merkmale bzgl. ihrer Verteilung untersucht. Die Verteilung eines Merkmals ist eine Auflistung aller möglichen Werte (oder Intervalle) der Daten und deren Häufigkeit des Auftretens. Wenn wir über die Verteilung von kategorialen Daten sprechen, können wir die Anzahl der Stichproben in jeder Kategorie sehen. Wenn wir hingegen die Verteilung von numerischen Daten betrachten, sind die Werte vom kleinsten zum größten Wert geordnet und in vernünftig große Gruppen unterteilt.\n",
    "\n",
    "Die Verteilung der Daten wird überlicherweise mit einem **Histogramm** dargestellt. Im Grunde teilen wir den gesamten Bereich der möglichen Werte in Intervalle auf und zählen, wie viele Vorkommen in jedes Intervall fallen."
   ]
  },
  {
   "cell_type": "code",
   "execution_count": 9,
   "id": "serial-distance",
   "metadata": {},
   "outputs": [
    {
     "data": {
      "text/plain": [
       "<AxesSubplot:xlabel='cnt', ylabel='Count'>"
      ]
     },
     "execution_count": 9,
     "metadata": {},
     "output_type": "execute_result"
    },
    {
     "data": {
      "image/png": "[encoded data removed]",
      "text/plain": [
       "<Figure size 864x432 with 1 Axes>"
      ]
     },
     "metadata": {
      "needs_background": "light"
     },
     "output_type": "display_data"
    }
   ],
   "source": [
    "# Um die Größe der Abbildung zu definieren, muss man das Matplotlib-Objekt Figure im Voraus erstellen und dabei angeben, wie groß die Abbildung ist.\n",
    "plt.figure(figsize=(12,6))\n",
    "\n",
    "# sb = Seaborn \n",
    "# cnt = Count of total rental bikes including both casual and registered\n",
    "sb.histplot( data=data, x=\"cnt\", bins=30)"
   ]
  },
  {
   "cell_type": "code",
   "execution_count": 10,
   "id": "theoretical-discrimination",
   "metadata": {},
   "outputs": [
    {
     "data": {
      "text/plain": [
       "<AxesSubplot:xlabel='cnt', ylabel='Count'>"
      ]
     },
     "execution_count": 10,
     "metadata": {},
     "output_type": "execute_result"
    },
    {
     "data": {
      "image/png": "[encoded data removed]",
      "text/plain": [
       "<Figure size 864x432 with 1 Axes>"
      ]
     },
     "metadata": {
      "needs_background": "light"
     },
     "output_type": "display_data"
    }
   ],
   "source": [
    "# Um die Größe der Abbildung zu definieren, muss man das Matplotlib-Objekt Figure im Voraus erstellen und dabei angeben, wie groß die Abbildung ist.\n",
    "plt.figure(figsize=(12,6))\n",
    "\n",
    "# sb = Seaborn \n",
    "# cnt = Count of total rental bikes including both casual and registered\n",
    "sb.histplot( data=data, x=\"cnt\", bins=30, kde=1,)"
   ]
  },
  {
   "cell_type": "markdown",
   "id": "hungarian-juvenile",
   "metadata": {},
   "source": [
    "Die Histogramme werden nun für alle numerischen Merkmale erstellt. Dazu kann man einfach den Pandas Befehl *hist()* verwenden. "
   ]
  },
  {
   "cell_type": "code",
   "execution_count": 11,
   "id": "raised-update",
   "metadata": {},
   "outputs": [
    {
     "data": {
      "text/plain": [
       "array([[<AxesSubplot:title={'center':'temp'}>,\n",
       "        <AxesSubplot:title={'center':'atemp'}>,\n",
       "        <AxesSubplot:title={'center':'hum'}>],\n",
       "       [<AxesSubplot:title={'center':'windspeed'}>,\n",
       "        <AxesSubplot:title={'center':'casual'}>,\n",
       "        <AxesSubplot:title={'center':'registered'}>],\n",
       "       [<AxesSubplot:title={'center':'cnt'}>, <AxesSubplot:>,\n",
       "        <AxesSubplot:>]], dtype=object)"
      ]
     },
     "execution_count": 11,
     "metadata": {},
     "output_type": "execute_result"
    },
    {
     "data": {
      "image/png": "[encoded data removed]",
      "text/plain": [
       "<Figure size 1152x576 with 9 Axes>"
      ]
     },
     "metadata": {
      "needs_background": "light"
     },
     "output_type": "display_data"
    }
   ],
   "source": [
    "data.hist(figsize=(16,8), bins=30)"
   ]
  },
  {
   "cell_type": "markdown",
   "id": "extraordinary-oklahoma",
   "metadata": {},
   "source": [
    "Die Funktion *displot* ist die allgemeinere Funktion zur Visualisierung von Verteilungen."
   ]
  },
  {
   "cell_type": "code",
   "execution_count": 12,
   "id": "ceramic-qualification",
   "metadata": {},
   "outputs": [
    {
     "data": {
      "text/plain": [
       "<seaborn.axisgrid.FacetGrid at 0x1f7a1a9d5e0>"
      ]
     },
     "execution_count": 12,
     "metadata": {},
     "output_type": "execute_result"
    },
    {
     "data": {
      "image/png": "[encoded data removed]",
      "text/plain": [
       "<Figure size 360x360 with 1 Axes>"
      ]
     },
     "metadata": {
      "needs_background": "light"
     },
     "output_type": "display_data"
    }
   ],
   "source": [
    "sb.displot(data, x=\"cnt\", bins=30)"
   ]
  },
  {
   "cell_type": "markdown",
   "id": "comprehensive-voluntary",
   "metadata": {},
   "source": [
    "Ein Histogramm kann man mit dem Parameter *stat=\"density\"* normalisieren. Ohne Angabe des Parameters werden die Vorkommen einfach gezählt (*stat=\"count\"*)."
   ]
  },
  {
   "cell_type": "code",
   "execution_count": 13,
   "id": "valid-puppy",
   "metadata": {},
   "outputs": [
    {
     "data": {
      "text/plain": [
       "<seaborn.axisgrid.FacetGrid at 0x1f7a1802910>"
      ]
     },
     "execution_count": 13,
     "metadata": {},
     "output_type": "execute_result"
    },
    {
     "data": {
      "image/png": "[encoded data removed]",
      "text/plain": [
       "<Figure size 360x360 with 1 Axes>"
      ]
     },
     "metadata": {
      "needs_background": "light"
     },
     "output_type": "display_data"
    }
   ],
   "source": [
    "sb.displot(data, x=\"cnt\", bins=30, stat=\"density\")"
   ]
  },
  {
   "cell_type": "markdown",
   "id": "attached-meeting",
   "metadata": {},
   "source": [
    "Ein Histogramm zielt darauf ab, die zugrunde liegende Wahrscheinlichkeitsdichtefunktion, die die Daten generiert hat, durch Binning und Zählen von Beobachtungen zu approximieren. Die Kernel-Dichte-Schätzung (KDE) stellt eine andere Lösung für dasselbe Problem dar. Anstatt diskrete Bins zu verwenden, glättet eine KDE-Darstellung die Beobachtungen mit einem Gaußschen Kernel und erzeugt so eine kontinuierliche Dichteschätzung. Dazu verwendet man den Parameter *kde=True*"
   ]
  },
  {
   "cell_type": "code",
   "execution_count": 14,
   "id": "opposed-briefs",
   "metadata": {},
   "outputs": [
    {
     "data": {
      "text/plain": [
       "<seaborn.axisgrid.FacetGrid at 0x1f7a1366c70>"
      ]
     },
     "execution_count": 14,
     "metadata": {},
     "output_type": "execute_result"
    },
    {
     "data": {
      "image/png": "[encoded data removed]",
      "text/plain": [
       "<Figure size 360x360 with 1 Axes>"
      ]
     },
     "metadata": {
      "needs_background": "light"
     },
     "output_type": "display_data"
    }
   ],
   "source": [
    "sb.displot(data, x=\"cnt\", bins=30, stat=\"density\", kde=True)"
   ]
  },
  {
   "cell_type": "code",
   "execution_count": 15,
   "id": "mighty-bulletin",
   "metadata": {},
   "outputs": [
    {
     "data": {
      "text/plain": [
       "<seaborn.axisgrid.FacetGrid at 0x1f7a1ac02e0>"
      ]
     },
     "execution_count": 15,
     "metadata": {},
     "output_type": "execute_result"
    },
    {
     "data": {
      "image/png": "[encoded data removed]",
      "text/plain": [
       "<Figure size 360x360 with 1 Axes>"
      ]
     },
     "metadata": {
      "needs_background": "light"
     },
     "output_type": "display_data"
    }
   ],
   "source": [
    "# nur die Dichte-Schätzung anzeigen \n",
    "sb.displot(data, x=\"cnt\", kind=\"kde\")"
   ]
  },
  {
   "cell_type": "markdown",
   "id": "announced-camping",
   "metadata": {},
   "source": [
    "Man kann damit auch ein Histogramm für kategoriale Daten erzeugen. Voraussetzung ist, dass die Kategorien geordnet sind. Dies kann man mit dem Befehl *cat.as_ordered()* erreichen."
   ]
  },
  {
   "cell_type": "code",
   "execution_count": 16,
   "id": "based-bosnia",
   "metadata": {},
   "outputs": [
    {
     "data": {
      "text/plain": [
       "<seaborn.axisgrid.FacetGrid at 0x1f7a17e4670>"
      ]
     },
     "execution_count": 16,
     "metadata": {},
     "output_type": "execute_result"
    },
    {
     "data": {
      "image/png": "[encoded data removed]",
      "text/plain": [
       "<Figure size 360x360 with 1 Axes>"
      ]
     },
     "metadata": {
      "needs_background": "light"
     },
     "output_type": "display_data"
    }
   ],
   "source": [
    "sb.displot(data, x=data[\"mnth\"].cat.as_ordered())"
   ]
  },
  {
   "cell_type": "markdown",
   "id": "advanced-integrity",
   "metadata": {},
   "source": [
    "## Lagemaße\n",
    "\n",
    "Lagemaße beschreiben die Verteilung der Daten. \n",
    "\n",
    "* Mittelwert - Dieser Wert ist der Durchschnitt eines Satzes von Stichproben. Das heißt, er stellt die Summe der Werte des Merkmals für jede Probe geteilt durch die Anzahl der Proben dar.\n",
    "* Modus - Der Modus wird als \"Spitze\" des Histogramms identifiziert. Verteilungen können einen Modus (unimodale Verteilungen) oder zwei Modi (bimodale Verteilungen) haben.\n",
    "* Median - Dieser Wert stellt den Mittelwert der Verteilung dar. Es ist die Zahl, bei der die Hälfte der Beobachtungen darüber und die Hälfte darunter liegt."
   ]
  },
  {
   "cell_type": "code",
   "execution_count": 17,
   "id": "plastic-grant",
   "metadata": {},
   "outputs": [
    {
     "data": {
      "text/plain": [
       "0.4969871684216583"
      ]
     },
     "execution_count": 17,
     "metadata": {},
     "output_type": "execute_result"
    }
   ],
   "source": [
    "# für einzelne Spalten \n",
    "data['temp'].mean()\n"
   ]
  },
  {
   "cell_type": "code",
   "execution_count": 18,
   "id": "available-typing",
   "metadata": {},
   "outputs": [
    {
     "data": {
      "text/plain": [
       "0.5"
      ]
     },
     "execution_count": 18,
     "metadata": {},
     "output_type": "execute_result"
    }
   ],
   "source": [
    "data['temp'].median()"
   ]
  },
  {
   "cell_type": "code",
   "execution_count": 19,
   "id": "reduced-opposition",
   "metadata": {},
   "outputs": [
    {
     "data": {
      "text/plain": [
       "temp            0.496987\n",
       "atemp           0.475775\n",
       "hum             0.627229\n",
       "windspeed       0.190098\n",
       "casual         35.676218\n",
       "registered    153.786869\n",
       "cnt           189.463088\n",
       "dtype: float64"
      ]
     },
     "execution_count": 19,
     "metadata": {},
     "output_type": "execute_result"
    }
   ],
   "source": [
    "# für alle Merkmale\n",
    "data.mean()"
   ]
  },
  {
   "cell_type": "code",
   "execution_count": 20,
   "id": "joint-wonder",
   "metadata": {},
   "outputs": [
    {
     "data": {
      "text/plain": [
       "temp            0.496987\n",
       "atemp           0.475775\n",
       "hum             0.627229\n",
       "windspeed       0.190098\n",
       "casual         35.676218\n",
       "registered    153.786869\n",
       "cnt           189.463088\n",
       "dtype: float64"
      ]
     },
     "execution_count": 20,
     "metadata": {},
     "output_type": "execute_result"
    }
   ],
   "source": [
    "data.mean()"
   ]
  },
  {
   "cell_type": "code",
   "execution_count": 21,
   "id": "exotic-chambers",
   "metadata": {},
   "outputs": [
    {
     "data": {
      "text/html": [
       "<div>\n",
       "<style scoped>\n",
       "    .dataframe tbody tr th:only-of-type {\n",
       "        vertical-align: middle;\n",
       "    }\n",
       "\n",
       "    .dataframe tbody tr th {\n",
       "        vertical-align: top;\n",
       "    }\n",
       "\n",
       "    .dataframe thead th {\n",
       "        text-align: right;\n",
       "    }\n",
       "</style>\n",
       "<table border=\"1\" class=\"dataframe\">\n",
       "  <thead>\n",
       "    <tr style=\"text-align: right;\">\n",
       "      <th></th>\n",
       "      <th>season</th>\n",
       "      <th>yr</th>\n",
       "      <th>mnth</th>\n",
       "      <th>hr</th>\n",
       "      <th>holiday</th>\n",
       "      <th>weekday</th>\n",
       "      <th>workingday</th>\n",
       "      <th>weathersit</th>\n",
       "      <th>temp</th>\n",
       "      <th>atemp</th>\n",
       "      <th>hum</th>\n",
       "      <th>windspeed</th>\n",
       "      <th>casual</th>\n",
       "      <th>registered</th>\n",
       "      <th>cnt</th>\n",
       "    </tr>\n",
       "  </thead>\n",
       "  <tbody>\n",
       "    <tr>\n",
       "      <th>0</th>\n",
       "      <td>3</td>\n",
       "      <td>1</td>\n",
       "      <td>5</td>\n",
       "      <td>16</td>\n",
       "      <td>0</td>\n",
       "      <td>6</td>\n",
       "      <td>1</td>\n",
       "      <td>1</td>\n",
       "      <td>0.62</td>\n",
       "      <td>0.6212</td>\n",
       "      <td>0.88</td>\n",
       "      <td>0.0</td>\n",
       "      <td>0.0</td>\n",
       "      <td>4.0</td>\n",
       "      <td>5.0</td>\n",
       "    </tr>\n",
       "    <tr>\n",
       "      <th>1</th>\n",
       "      <td>NaN</td>\n",
       "      <td>NaN</td>\n",
       "      <td>7</td>\n",
       "      <td>17</td>\n",
       "      <td>NaN</td>\n",
       "      <td>NaN</td>\n",
       "      <td>NaN</td>\n",
       "      <td>NaN</td>\n",
       "      <td>NaN</td>\n",
       "      <td>NaN</td>\n",
       "      <td>NaN</td>\n",
       "      <td>NaN</td>\n",
       "      <td>NaN</td>\n",
       "      <td>NaN</td>\n",
       "      <td>NaN</td>\n",
       "    </tr>\n",
       "  </tbody>\n",
       "</table>\n",
       "</div>"
      ],
      "text/plain": [
       "  season   yr mnth  hr holiday weekday workingday weathersit  temp   atemp  \\\n",
       "0      3    1    5  16       0       6          1          1  0.62  0.6212   \n",
       "1    NaN  NaN    7  17     NaN     NaN        NaN        NaN   NaN     NaN   \n",
       "\n",
       "    hum  windspeed  casual  registered  cnt  \n",
       "0  0.88        0.0     0.0         4.0  5.0  \n",
       "1   NaN        NaN     NaN         NaN  NaN  "
      ]
     },
     "execution_count": 21,
     "metadata": {},
     "output_type": "execute_result"
    }
   ],
   "source": [
    "data.mode()"
   ]
  },
  {
   "cell_type": "markdown",
   "id": "identified-beatles",
   "metadata": {},
   "source": [
    "## Streuungsmaße\n",
    "\n",
    "Die Streuung wird u.a. mit folgenden Maßen beschrieben:\n",
    "\n",
    "* **Range** - Dieses Maß stellt den Abstand zwischen dem kleinsten und dem größten Datenpunkt dar.\n",
    "* **Interquartilsbereich (IQR)** - Während der Bereich die gesamten Daten umfasst, gibt der IQR an, wo sich die mittleren 50 Prozent der Daten befinden. Wenn wir nach diesem Wert suchen, suchen wir zuerst nach dem Median M, da er die Daten in zwei Hälften teilt. Dann suchen wir den Median des unteren Endes der Daten (bezeichnet als Q1) und den Median des oberen Endes der Daten (bezeichnet als Q3). Die Daten zwischen Q1 und Q3 sind der IQR.\n",
    "* **Standardabweichung** - Dieses Maß gibt den durchschnittlichen Abstand zwischen Datenpunkten und dem Mittelwert an. Im Wesentlichen quantifiziert es die Streuung einer Verteilung. "
   ]
  },
  {
   "cell_type": "code",
   "execution_count": 22,
   "id": "creative-bahrain",
   "metadata": {},
   "outputs": [
    {
     "data": {
      "text/plain": [
       "count    17379.000000\n",
       "mean         0.496987\n",
       "std          0.192556\n",
       "min          0.020000\n",
       "25%          0.340000\n",
       "50%          0.500000\n",
       "75%          0.660000\n",
       "max          1.000000\n",
       "Name: temp, dtype: float64"
      ]
     },
     "execution_count": 22,
     "metadata": {},
     "output_type": "execute_result"
    }
   ],
   "source": [
    "data['temp'].describe()"
   ]
  },
  {
   "cell_type": "code",
   "execution_count": 23,
   "id": "distant-committee",
   "metadata": {},
   "outputs": [
    {
     "data": {
      "text/html": [
       "<div>\n",
       "<style scoped>\n",
       "    .dataframe tbody tr th:only-of-type {\n",
       "        vertical-align: middle;\n",
       "    }\n",
       "\n",
       "    .dataframe tbody tr th {\n",
       "        vertical-align: top;\n",
       "    }\n",
       "\n",
       "    .dataframe thead th {\n",
       "        text-align: right;\n",
       "    }\n",
       "</style>\n",
       "<table border=\"1\" class=\"dataframe\">\n",
       "  <thead>\n",
       "    <tr style=\"text-align: right;\">\n",
       "      <th></th>\n",
       "      <th>temp</th>\n",
       "      <th>atemp</th>\n",
       "      <th>hum</th>\n",
       "      <th>windspeed</th>\n",
       "      <th>casual</th>\n",
       "      <th>registered</th>\n",
       "      <th>cnt</th>\n",
       "    </tr>\n",
       "  </thead>\n",
       "  <tbody>\n",
       "    <tr>\n",
       "      <th>count</th>\n",
       "      <td>17379.000000</td>\n",
       "      <td>17379.000000</td>\n",
       "      <td>17379.000000</td>\n",
       "      <td>17379.000000</td>\n",
       "      <td>17379.000000</td>\n",
       "      <td>17379.000000</td>\n",
       "      <td>17379.000000</td>\n",
       "    </tr>\n",
       "    <tr>\n",
       "      <th>mean</th>\n",
       "      <td>0.496987</td>\n",
       "      <td>0.475775</td>\n",
       "      <td>0.627229</td>\n",
       "      <td>0.190098</td>\n",
       "      <td>35.676218</td>\n",
       "      <td>153.786869</td>\n",
       "      <td>189.463088</td>\n",
       "    </tr>\n",
       "    <tr>\n",
       "      <th>std</th>\n",
       "      <td>0.192556</td>\n",
       "      <td>0.171850</td>\n",
       "      <td>0.192930</td>\n",
       "      <td>0.122340</td>\n",
       "      <td>49.305030</td>\n",
       "      <td>151.357286</td>\n",
       "      <td>181.387599</td>\n",
       "    </tr>\n",
       "    <tr>\n",
       "      <th>min</th>\n",
       "      <td>0.020000</td>\n",
       "      <td>0.000000</td>\n",
       "      <td>0.000000</td>\n",
       "      <td>0.000000</td>\n",
       "      <td>0.000000</td>\n",
       "      <td>0.000000</td>\n",
       "      <td>1.000000</td>\n",
       "    </tr>\n",
       "    <tr>\n",
       "      <th>25%</th>\n",
       "      <td>0.340000</td>\n",
       "      <td>0.333300</td>\n",
       "      <td>0.480000</td>\n",
       "      <td>0.104500</td>\n",
       "      <td>4.000000</td>\n",
       "      <td>34.000000</td>\n",
       "      <td>40.000000</td>\n",
       "    </tr>\n",
       "    <tr>\n",
       "      <th>50%</th>\n",
       "      <td>0.500000</td>\n",
       "      <td>0.484800</td>\n",
       "      <td>0.630000</td>\n",
       "      <td>0.194000</td>\n",
       "      <td>17.000000</td>\n",
       "      <td>115.000000</td>\n",
       "      <td>142.000000</td>\n",
       "    </tr>\n",
       "    <tr>\n",
       "      <th>75%</th>\n",
       "      <td>0.660000</td>\n",
       "      <td>0.621200</td>\n",
       "      <td>0.780000</td>\n",
       "      <td>0.253700</td>\n",
       "      <td>48.000000</td>\n",
       "      <td>220.000000</td>\n",
       "      <td>281.000000</td>\n",
       "    </tr>\n",
       "    <tr>\n",
       "      <th>max</th>\n",
       "      <td>1.000000</td>\n",
       "      <td>1.000000</td>\n",
       "      <td>1.000000</td>\n",
       "      <td>0.850700</td>\n",
       "      <td>367.000000</td>\n",
       "      <td>886.000000</td>\n",
       "      <td>977.000000</td>\n",
       "    </tr>\n",
       "  </tbody>\n",
       "</table>\n",
       "</div>"
      ],
      "text/plain": [
       "               temp         atemp           hum     windspeed        casual  \\\n",
       "count  17379.000000  17379.000000  17379.000000  17379.000000  17379.000000   \n",
       "mean       0.496987      0.475775      0.627229      0.190098     35.676218   \n",
       "std        0.192556      0.171850      0.192930      0.122340     49.305030   \n",
       "min        0.020000      0.000000      0.000000      0.000000      0.000000   \n",
       "25%        0.340000      0.333300      0.480000      0.104500      4.000000   \n",
       "50%        0.500000      0.484800      0.630000      0.194000     17.000000   \n",
       "75%        0.660000      0.621200      0.780000      0.253700     48.000000   \n",
       "max        1.000000      1.000000      1.000000      0.850700    367.000000   \n",
       "\n",
       "         registered           cnt  \n",
       "count  17379.000000  17379.000000  \n",
       "mean     153.786869    189.463088  \n",
       "std      151.357286    181.387599  \n",
       "min        0.000000      1.000000  \n",
       "25%       34.000000     40.000000  \n",
       "50%      115.000000    142.000000  \n",
       "75%      220.000000    281.000000  \n",
       "max      886.000000    977.000000  "
      ]
     },
     "execution_count": 23,
     "metadata": {},
     "output_type": "execute_result"
    }
   ],
   "source": [
    "# für alle numerischen Merkmale\n",
    "data.describe()"
   ]
  },
  {
   "cell_type": "code",
   "execution_count": 24,
   "id": "optical-familiar",
   "metadata": {},
   "outputs": [
    {
     "data": {
      "text/html": [
       "<div>\n",
       "<style scoped>\n",
       "    .dataframe tbody tr th:only-of-type {\n",
       "        vertical-align: middle;\n",
       "    }\n",
       "\n",
       "    .dataframe tbody tr th {\n",
       "        vertical-align: top;\n",
       "    }\n",
       "\n",
       "    .dataframe thead th {\n",
       "        text-align: right;\n",
       "    }\n",
       "</style>\n",
       "<table border=\"1\" class=\"dataframe\">\n",
       "  <thead>\n",
       "    <tr style=\"text-align: right;\">\n",
       "      <th></th>\n",
       "      <th>temp</th>\n",
       "      <th>atemp</th>\n",
       "      <th>hum</th>\n",
       "      <th>windspeed</th>\n",
       "      <th>casual</th>\n",
       "      <th>registered</th>\n",
       "      <th>cnt</th>\n",
       "    </tr>\n",
       "  </thead>\n",
       "  <tbody>\n",
       "    <tr>\n",
       "      <th>count</th>\n",
       "      <td>17379.00</td>\n",
       "      <td>17379.00</td>\n",
       "      <td>17379.00</td>\n",
       "      <td>17379.00</td>\n",
       "      <td>17379.00</td>\n",
       "      <td>17379.00</td>\n",
       "      <td>17379.00</td>\n",
       "    </tr>\n",
       "    <tr>\n",
       "      <th>mean</th>\n",
       "      <td>0.50</td>\n",
       "      <td>0.48</td>\n",
       "      <td>0.63</td>\n",
       "      <td>0.19</td>\n",
       "      <td>35.68</td>\n",
       "      <td>153.79</td>\n",
       "      <td>189.46</td>\n",
       "    </tr>\n",
       "    <tr>\n",
       "      <th>std</th>\n",
       "      <td>0.19</td>\n",
       "      <td>0.17</td>\n",
       "      <td>0.19</td>\n",
       "      <td>0.12</td>\n",
       "      <td>49.31</td>\n",
       "      <td>151.36</td>\n",
       "      <td>181.39</td>\n",
       "    </tr>\n",
       "    <tr>\n",
       "      <th>min</th>\n",
       "      <td>0.02</td>\n",
       "      <td>0.00</td>\n",
       "      <td>0.00</td>\n",
       "      <td>0.00</td>\n",
       "      <td>0.00</td>\n",
       "      <td>0.00</td>\n",
       "      <td>1.00</td>\n",
       "    </tr>\n",
       "    <tr>\n",
       "      <th>25%</th>\n",
       "      <td>0.34</td>\n",
       "      <td>0.33</td>\n",
       "      <td>0.48</td>\n",
       "      <td>0.10</td>\n",
       "      <td>4.00</td>\n",
       "      <td>34.00</td>\n",
       "      <td>40.00</td>\n",
       "    </tr>\n",
       "    <tr>\n",
       "      <th>50%</th>\n",
       "      <td>0.50</td>\n",
       "      <td>0.48</td>\n",
       "      <td>0.63</td>\n",
       "      <td>0.19</td>\n",
       "      <td>17.00</td>\n",
       "      <td>115.00</td>\n",
       "      <td>142.00</td>\n",
       "    </tr>\n",
       "    <tr>\n",
       "      <th>75%</th>\n",
       "      <td>0.66</td>\n",
       "      <td>0.62</td>\n",
       "      <td>0.78</td>\n",
       "      <td>0.25</td>\n",
       "      <td>48.00</td>\n",
       "      <td>220.00</td>\n",
       "      <td>281.00</td>\n",
       "    </tr>\n",
       "    <tr>\n",
       "      <th>max</th>\n",
       "      <td>1.00</td>\n",
       "      <td>1.00</td>\n",
       "      <td>1.00</td>\n",
       "      <td>0.85</td>\n",
       "      <td>367.00</td>\n",
       "      <td>886.00</td>\n",
       "      <td>977.00</td>\n",
       "    </tr>\n",
       "  </tbody>\n",
       "</table>\n",
       "</div>"
      ],
      "text/plain": [
       "           temp     atemp       hum  windspeed    casual  registered       cnt\n",
       "count  17379.00  17379.00  17379.00   17379.00  17379.00    17379.00  17379.00\n",
       "mean       0.50      0.48      0.63       0.19     35.68      153.79    189.46\n",
       "std        0.19      0.17      0.19       0.12     49.31      151.36    181.39\n",
       "min        0.02      0.00      0.00       0.00      0.00        0.00      1.00\n",
       "25%        0.34      0.33      0.48       0.10      4.00       34.00     40.00\n",
       "50%        0.50      0.48      0.63       0.19     17.00      115.00    142.00\n",
       "75%        0.66      0.62      0.78       0.25     48.00      220.00    281.00\n",
       "max        1.00      1.00      1.00       0.85    367.00      886.00    977.00"
      ]
     },
     "execution_count": 24,
     "metadata": {},
     "output_type": "execute_result"
    }
   ],
   "source": [
    "# Ergebnisse zur besseren Übersichtlichkeit runden\n",
    "round(data.describe(),2)"
   ]
  },
  {
   "cell_type": "markdown",
   "id": "played-shakespeare",
   "metadata": {},
   "source": [
    "## Korrelationsanalyse\n"
   ]
  },
  {
   "cell_type": "code",
   "execution_count": 25,
   "id": "severe-performance",
   "metadata": {},
   "outputs": [
    {
     "data": {
      "text/plain": [
       "<AxesSubplot:xlabel='cnt', ylabel='registered'>"
      ]
     },
     "execution_count": 25,
     "metadata": {},
     "output_type": "execute_result"
    },
    {
     "data": {
      "image/png": "[encoded data removed]",
      "text/plain": [
       "<Figure size 432x288 with 1 Axes>"
      ]
     },
     "metadata": {
      "needs_background": "light"
     },
     "output_type": "display_data"
    }
   ],
   "source": [
    "# Scatterplot\n",
    "sb.scatterplot(x=data['cnt'], y=data['registered'], hue=data['cnt'], legend=False, palette=\"Set2\")"
   ]
  },
  {
   "cell_type": "markdown",
   "id": "marked-boating",
   "metadata": {},
   "source": [
    "Um  Scatterplots für zwei Merkmale zu erstellen, verwendet man die Funktion *scatterplot* aus dem Seaborn-Modul. Es gibt jedoch eine Funktion namens *pairplot* aus der gleichen Bibliothek, mit der man die Beziehungen aller quantitativen Merkmale darstellen kann. Die Berechungen und die Visualisierung benötigen etwas Zeit."
   ]
  },
  {
   "cell_type": "code",
   "execution_count": 26,
   "id": "different-sequence",
   "metadata": {},
   "outputs": [
    {
     "ename": "NameError",
     "evalue": "name 'numerical_features' is not defined",
     "output_type": "error",
     "traceback": [
      "\u001b[1;31m---------------------------------------------------------------------------\u001b[0m",
      "\u001b[1;31mNameError\u001b[0m                                 Traceback (most recent call last)",
      "\u001b[1;32m<ipython-input-26-aa7bb3c787e7>\u001b[0m in \u001b[0;36m<module>\u001b[1;34m\u001b[0m\n\u001b[1;32m----> 1\u001b[1;33m \u001b[0msb\u001b[0m\u001b[1;33m.\u001b[0m\u001b[0mpairplot\u001b[0m\u001b[1;33m(\u001b[0m\u001b[0mnumerical_features\u001b[0m\u001b[1;33m,\u001b[0m \u001b[0mheight\u001b[0m\u001b[1;33m=\u001b[0m\u001b[1;36m2\u001b[0m\u001b[1;33m)\u001b[0m\u001b[1;33m\u001b[0m\u001b[1;33m\u001b[0m\u001b[0m\n\u001b[0m",
      "\u001b[1;31mNameError\u001b[0m: name 'numerical_features' is not defined"
     ]
    }
   ],
   "source": [
    "sb.pairplot(numerical_features, height=2)"
   ]
  },
  {
   "cell_type": "markdown",
   "id": "voluntary-victoria",
   "metadata": {},
   "source": [
    "Eine **Korrelationsmatrix** besteht aus Korrelationskoeffizienten für jede Merkmalsbeziehung. Der Korrelationskoeffizient ist ein Maß, das Informationen über die Stärke und Richtung einer linearen Beziehung zwischen zwei quantitativen Merkmalen gibt. Dieser Koeffizient kann einen Wert aus dem Bereich -1 tо 1 annehmen. Wenn der Wert näher an -1 oder 1 ist, ist die Beziehung stärker. Um diese Information zu erhalten, verwenden wir eine Kombination von Pandas- und Seaborn-Modulen. "
   ]
  },
  {
   "cell_type": "code",
   "execution_count": null,
   "id": "married-hypothesis",
   "metadata": {},
   "outputs": [],
   "source": [
    "corrMatt = data.corr()\n",
    "mask = np.array(corrMatt)\n",
    "mask[np.tril_indices_from(mask)] = False\n",
    "\n",
    "fig,ax= plt.subplots()\n",
    "fig.set_size_inches(20,10)\n",
    "\n",
    "sb.heatmap(corrMatt, cmap=\"Blues\", mask=mask,vmax=.8, square=True,annot=True)"
   ]
  },
  {
   "cell_type": "markdown",
   "id": "diverse-alpha",
   "metadata": {},
   "source": [
    "Count und Registered sowie Temperatur und Normalized Temperature weißen eine starke positive lineare Beziehung auf."
   ]
  },
  {
   "cell_type": "code",
   "execution_count": null,
   "id": "white-crash",
   "metadata": {},
   "outputs": [],
   "source": []
  }
 ],
 "metadata": {
  "kernelspec": {
   "display_name": "Statistik",
   "language": "python",
   "name": "statistik"
  },
  "language_info": {
   "codemirror_mode": {
    "name": "ipython",
    "version": 3
   },
   "file_extension": ".py",
   "mimetype": "text/x-python",
   "name": "python",
   "nbconvert_exporter": "python",
   "pygments_lexer": "ipython3",
   "version": "3.8.6"
  }
 },
 "nbformat": 4,
 "nbformat_minor": 5
}
