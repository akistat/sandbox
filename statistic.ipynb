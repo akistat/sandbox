{
 "cells": [
  {
   "cell_type": "markdown",
   "metadata": {},
   "source": [
    "Standard statisctic library of Python"
   ]
  },
  {
   "cell_type": "code",
   "execution_count": 48,
   "metadata": {},
   "outputs": [],
   "source": [
    "arrayOne = [1, 3, 5, 7, 9, 11, 13]\n",
    "arrayTwo = [1, 3, 5, 7, 9, 11]\n",
    "arrayThree = [-11, 5.5, -3.4, 7.1, -9, 22]"
   ]
  },
  {
   "cell_type": "code",
   "execution_count": 23,
   "metadata": {},
   "outputs": [
    {
     "name": "stdout",
     "output_type": "stream",
     "text": [
      "7\n",
      "6\n",
      "1.8666666666666667\n"
     ]
    }
   ],
   "source": [
    "# Import statistics Library\n",
    "import statistics as stat\n",
    "\n",
    "# Mean - calculate average values\n",
    "print(stat.mean(arrayOne))\n",
    "print(stat.mean(arrayTwo))\n",
    "print(stat.mean(arrayThree)) "
   ]
  },
  {
   "cell_type": "code",
   "execution_count": 24,
   "metadata": {},
   "outputs": [
    {
     "name": "stdout",
     "output_type": "stream",
     "text": [
      "7\n",
      "6.0\n",
      "1.05\n"
     ]
    }
   ],
   "source": [
    "# Median - calculate middle values\n",
    "print(stat.median(arrayOne))\n",
    "print(stat.median(arrayTwo))\n",
    "print(stat.median(arrayThree)) "
   ]
  },
  {
   "cell_type": "code",
   "execution_count": 25,
   "metadata": {},
   "outputs": [
    {
     "name": "stdout",
     "output_type": "stream",
     "text": [
      "3.7416573867739413\n",
      "0.6925797186365384\n",
      "8.414471660973929\n",
      "41.68\n"
     ]
    }
   ],
   "source": [
    "# Standard deviation from a sample of data\n",
    "print(stat.stdev([1, 3, 5, 7, 9, 11]))\n",
    "print(stat.stdev([2, 2.5, 1.25, 3.1, 1.75, 2.8]))\n",
    "print(stat.stdev([-11, 5.5, -3.4, 7.1]))\n",
    "\n",
    "# Round result with two decimals use\n",
    "print(round(stat.stdev([1, 30, 50, 100]),2)) "
   ]
  },
  {
   "cell_type": "code",
   "execution_count": 26,
   "metadata": {},
   "outputs": [
    {
     "name": "stdout",
     "output_type": "stream",
     "text": [
      "14\n",
      "0.4796666666666667\n",
      "70.80333333333334\n",
      "1736.92\n"
     ]
    }
   ],
   "source": [
    "# Calculate the variance from a sample of data\n",
    "print(stat.variance([1, 3, 5, 7, 9, 11]))\n",
    "print(stat.variance([2, 2.5, 1.25, 3.1, 1.75, 2.8]))\n",
    "print(stat.variance([-11, 5.5, -3.4, 7.1]))\n",
    "\n",
    "# Round\n",
    "print(round (stat.variance([1, 30, 50, 100]),2))"
   ]
  },
  {
   "cell_type": "code",
   "execution_count": 27,
   "metadata": {},
   "outputs": [
    {
     "ename": "ModuleNotFoundError",
     "evalue": "No module named 'rdatasets'",
     "output_type": "error",
     "traceback": [
      "\u001b[1;31m---------------------------------------------------------------------------\u001b[0m",
      "\u001b[1;31mModuleNotFoundError\u001b[0m                       Traceback (most recent call last)",
      "\u001b[1;32m<ipython-input-27-56cc4deb64bb>\u001b[0m in \u001b[0;36m<module>\u001b[1;34m\u001b[0m\n\u001b[0;32m      1\u001b[0m \u001b[1;32mimport\u001b[0m \u001b[0mpandas\u001b[0m \u001b[1;32mas\u001b[0m \u001b[0mpd\u001b[0m\u001b[1;33m\u001b[0m\u001b[1;33m\u001b[0m\u001b[0m\n\u001b[1;32m----> 2\u001b[1;33m \u001b[1;32mfrom\u001b[0m \u001b[0mrdatasets\u001b[0m \u001b[1;32mimport\u001b[0m \u001b[0mdata\u001b[0m\u001b[1;33m\u001b[0m\u001b[1;33m\u001b[0m\u001b[0m\n\u001b[0m",
      "\u001b[1;31mModuleNotFoundError\u001b[0m: No module named 'rdatasets'"
     ]
    }
   ],
   "source": [
    "import pandas as pd\n",
    "from rdatasets import data"
   ]
  },
  {
   "cell_type": "code",
   "execution_count": 55,
   "metadata": {},
   "outputs": [
    {
     "name": "stdout",
     "output_type": "stream",
     "text": [
      "D:\\anaconda3\\python.exe\n"
     ]
    }
   ],
   "source": [
    "import sys\n",
    "print(sys.executable)"
   ]
  },
  {
   "cell_type": "code",
   "execution_count": null,
   "metadata": {},
   "outputs": [],
   "source": []
  }
 ],
 "metadata": {
  "kernelspec": {
   "display_name": "Python 3",
   "language": "python",
   "name": "python3"
  },
  "language_info": {
   "codemirror_mode": {
    "name": "ipython",
    "version": 3
   },
   "file_extension": ".py",
   "mimetype": "text/x-python",
   "name": "python",
   "nbconvert_exporter": "python",
   "pygments_lexer": "ipython3",
   "version": "3.8.6"
  }
 },
 "nbformat": 4,
 "nbformat_minor": 4
}
